{
 "cells": [
  {
   "cell_type": "code",
   "execution_count": null,
   "metadata": {},
   "outputs": [],
   "source": [
    "# default_exp core"
   ]
  },
  {
   "cell_type": "markdown",
   "metadata": {},
   "source": [
    "# core\n",
    "\n",
    "> Core functions to run experiments"
   ]
  },
  {
   "cell_type": "code",
   "execution_count": null,
   "metadata": {},
   "outputs": [
    {
     "data": {
      "application/javascript": [
       "\n",
       "            setTimeout(function() {\n",
       "                var nbb_cell_id = 1;\n",
       "                var nbb_unformatted_code = \"# hide\\nfrom nbdev.showdoc import *\\n\\n%load_ext nb_black\\n%matplotlib inline\\n%config InlineBackend.figure_format='retina'\\n%config IPCompleter.greedy=True\";\n",
       "                var nbb_formatted_code = \"# hide\\nfrom nbdev.showdoc import *\\n\\n%load_ext nb_black\\n%matplotlib inline\\n%config InlineBackend.figure_format='retina'\\n%config IPCompleter.greedy=True\";\n",
       "                var nbb_cells = Jupyter.notebook.get_cells();\n",
       "                for (var i = 0; i < nbb_cells.length; ++i) {\n",
       "                    if (nbb_cells[i].input_prompt_number == nbb_cell_id) {\n",
       "                        if (nbb_cells[i].get_text() == nbb_unformatted_code) {\n",
       "                             nbb_cells[i].set_text(nbb_formatted_code);\n",
       "                        }\n",
       "                        break;\n",
       "                    }\n",
       "                }\n",
       "            }, 500);\n",
       "            "
      ],
      "text/plain": [
       "<IPython.core.display.Javascript object>"
      ]
     },
     "metadata": {},
     "output_type": "display_data"
    }
   ],
   "source": [
    "# hide\n",
    "from nbdev.showdoc import *\n",
    "\n",
    "%load_ext nb_black\n",
    "%matplotlib inline\n",
    "%config InlineBackend.figure_format='retina'\n",
    "%config IPCompleter.greedy=True"
   ]
  },
  {
   "cell_type": "code",
   "execution_count": null,
   "metadata": {},
   "outputs": [
    {
     "data": {
      "application/javascript": [
       "\n",
       "            setTimeout(function() {\n",
       "                var nbb_cell_id = 2;\n",
       "                var nbb_unformatted_code = \"# export\\nfrom torchvision.datasets import FashionMNIST\\nimport numpy as np\\n\\nimport torch\\nimport torch as th\\nimport torch.optim as optim\\nimport torch.nn.functional as F\\n\\nfrom torch.utils.tensorboard import SummaryWriter\";\n",
       "                var nbb_formatted_code = \"# export\\nfrom torchvision.datasets import FashionMNIST\\nimport numpy as np\\n\\nimport torch\\nimport torch as th\\nimport torch.optim as optim\\nimport torch.nn.functional as F\\n\\nfrom torch.utils.tensorboard import SummaryWriter\";\n",
       "                var nbb_cells = Jupyter.notebook.get_cells();\n",
       "                for (var i = 0; i < nbb_cells.length; ++i) {\n",
       "                    if (nbb_cells[i].input_prompt_number == nbb_cell_id) {\n",
       "                        if (nbb_cells[i].get_text() == nbb_unformatted_code) {\n",
       "                             nbb_cells[i].set_text(nbb_formatted_code);\n",
       "                        }\n",
       "                        break;\n",
       "                    }\n",
       "                }\n",
       "            }, 500);\n",
       "            "
      ],
      "text/plain": [
       "<IPython.core.display.Javascript object>"
      ]
     },
     "metadata": {},
     "output_type": "display_data"
    }
   ],
   "source": [
    "# export\n",
    "from torchvision.datasets import FashionMNIST\n",
    "import numpy as np\n",
    "\n",
    "import torch\n",
    "import torch as th\n",
    "import torch.optim as optim\n",
    "import torch.nn.functional as F\n",
    "\n",
    "from torch.utils.tensorboard import SummaryWriter"
   ]
  },
  {
   "cell_type": "code",
   "execution_count": null,
   "metadata": {},
   "outputs": [
    {
     "data": {
      "application/javascript": [
       "\n",
       "            setTimeout(function() {\n",
       "                var nbb_cell_id = 3;\n",
       "                var nbb_unformatted_code = \"# export\\nfrom remagination import vae\\nfrom remagination.vae import train\\nfrom remagination.vae import test\\nfrom remagination import recall\";\n",
       "                var nbb_formatted_code = \"# export\\nfrom remagination import vae\\nfrom remagination.vae import train\\nfrom remagination.vae import test\\nfrom remagination import recall\";\n",
       "                var nbb_cells = Jupyter.notebook.get_cells();\n",
       "                for (var i = 0; i < nbb_cells.length; ++i) {\n",
       "                    if (nbb_cells[i].input_prompt_number == nbb_cell_id) {\n",
       "                        if (nbb_cells[i].get_text() == nbb_unformatted_code) {\n",
       "                             nbb_cells[i].set_text(nbb_formatted_code);\n",
       "                        }\n",
       "                        break;\n",
       "                    }\n",
       "                }\n",
       "            }, 500);\n",
       "            "
      ],
      "text/plain": [
       "<IPython.core.display.Javascript object>"
      ]
     },
     "metadata": {},
     "output_type": "display_data"
    }
   ],
   "source": [
    "# export\n",
    "from remagination import vae\n",
    "from remagination import recall"
   ]
  },
  {
   "cell_type": "code",
   "execution_count": null,
   "metadata": {},
   "outputs": [
    {
     "data": {
      "application/javascript": [
       "\n",
       "            setTimeout(function() {\n",
       "                var nbb_cell_id = 8;\n",
       "                var nbb_unformatted_code = \"# export\\ndef train_fashion(\\n    fraction,\\n    num_episodes=10,\\n    batch_size=10,\\n    num_burn=1,\\n    lr=0.001,\\n    device=\\\"cpu\\\",\\n    recall_name=\\\"Recall\\\",\\n    recall_kwargs=None,\\n    vae_name=\\\"VAE\\\",\\n    vae_kwargs=None,\\n):\\n\\n    # -- Init memories\\n    if recall_kwargs is None:\\n        recall_kwargs = {}\\n    if vae_kwargs is None:\\n        vae_kwargs = {}\\n\\n    Recall = getattr(recall, recall_name)\\n    memory = Recall(**recall_kwargs)\\n\\n    VAE = getattr(vae, vae_name)\\n    model = VAE(**vae_kwargs).to(device)\\n    optimizer = optim.SGD(model.parameters(), lr=lr)\\n\\n    # -- Get the data (assumes data/ exists)\\n    dataset = FashionMNIST(\\\"data/\\\", train=True, download=True)\\n\\n    # -- Everything is sane?\\n    num_episodes = int(num_episodes)\\n    num_burn = int(num_burn)\\n    lr = float(lr)\\n    if not np.isclose(sum(fraction), 1):\\n        raise ValueError(\\\"fractions must sum to 1\\\")\\n    if num_episodes > (len(dataset) % batch_size):\\n        raise ValueError(f\\\"num_episodes must be <= {len(dataset) % batch_size}\\\")\\n\\n    # -- !\\n    options = [\\\"new\\\", \\\"recall\\\", \\\"imagine\\\"]\\n    batch_idx = 0\\n    for n in num_episodes:\\n        # Burn in the model, or consider other options?\\n        if n < num_burn:\\n            option = \\\"new\\\"\\n        else:\\n            option = np.random.choice(options, p=fraction)\\n\\n        # Make/get training data \\n        if option == \\\"new\\\":\\n            train_batch = dataset[idx : batch_idx + batch_size]\\n            memory.update(train_batch)\\n            batch_idx += batch_size\\n        elif option == \\\"recall\\\":\\n            train_batch = memory.sample(batch_size)\\n        else:\\n            train_batch = model.sample(batch_size, device=device)\\n\\n        # Train the vae/model\\n        loss = vae.train(train_batch, model, optimizer, device)\\n\\n    return vae, loss\";\n",
       "                var nbb_formatted_code = \"# export\\ndef train_fashion(\\n    fraction,\\n    num_episodes=10,\\n    batch_size=10,\\n    num_burn=1,\\n    lr=0.001,\\n    device=\\\"cpu\\\",\\n    recall_name=\\\"Recall\\\",\\n    recall_kwargs=None,\\n    vae_name=\\\"VAE\\\",\\n    vae_kwargs=None,\\n):\\n\\n    # -- Init memories\\n    if recall_kwargs is None:\\n        recall_kwargs = {}\\n    if vae_kwargs is None:\\n        vae_kwargs = {}\\n\\n    Recall = getattr(recall, recall_name)\\n    memory = Recall(**recall_kwargs)\\n\\n    VAE = getattr(vae, vae_name)\\n    model = VAE(**vae_kwargs).to(device)\\n    optimizer = optim.SGD(model.parameters(), lr=lr)\\n\\n    # -- Get the data (assumes data/ exists)\\n    dataset = FashionMNIST(\\\"data/\\\", train=True, download=True)\\n\\n    # -- Everything is sane?\\n    num_episodes = int(num_episodes)\\n    num_burn = int(num_burn)\\n    lr = float(lr)\\n    if not np.isclose(sum(fraction), 1):\\n        raise ValueError(\\\"fractions must sum to 1\\\")\\n    if num_episodes > (len(dataset) % batch_size):\\n        raise ValueError(f\\\"num_episodes must be <= {len(dataset) % batch_size}\\\")\\n\\n    # -- !\\n    options = [\\\"new\\\", \\\"recall\\\", \\\"imagine\\\"]\\n    batch_idx = 0\\n    for n in num_episodes:\\n        # Burn in the model, or consider other options?\\n        if n < num_burn:\\n            option = \\\"new\\\"\\n        else:\\n            option = np.random.choice(options, p=fraction)\\n\\n        # Make/get training data\\n        if option == \\\"new\\\":\\n            train_batch = dataset[idx : batch_idx + batch_size]\\n            memory.update(train_batch)\\n            batch_idx += batch_size\\n        elif option == \\\"recall\\\":\\n            train_batch = memory.sample(batch_size)\\n        else:\\n            train_batch = model.sample(batch_size, device=device)\\n\\n        # Train the vae/model\\n        loss = vae.train(train_batch, model, optimizer, device)\\n\\n    return vae, loss\";\n",
       "                var nbb_cells = Jupyter.notebook.get_cells();\n",
       "                for (var i = 0; i < nbb_cells.length; ++i) {\n",
       "                    if (nbb_cells[i].input_prompt_number == nbb_cell_id) {\n",
       "                        if (nbb_cells[i].get_text() == nbb_unformatted_code) {\n",
       "                             nbb_cells[i].set_text(nbb_formatted_code);\n",
       "                        }\n",
       "                        break;\n",
       "                    }\n",
       "                }\n",
       "            }, 500);\n",
       "            "
      ],
      "text/plain": [
       "<IPython.core.display.Javascript object>"
      ]
     },
     "metadata": {},
     "output_type": "display_data"
    }
   ],
   "source": [
    "# export\n",
    "def train_fashion(\n",
    "    fraction,\n",
    "    num_episodes=10,\n",
    "    batch_size=10,\n",
    "    num_burn=1,\n",
    "    lr=0.001,\n",
    "    device=\"cpu\",\n",
    "    recall_name=\"Recall\",\n",
    "    recall_kwargs=None,\n",
    "    vae_name=\"VAE\",\n",
    "    vae_kwargs=None,\n",
    "):\n",
    "\n",
    "    # -- Init memories\n",
    "    if recall_kwargs is None:\n",
    "        recall_kwargs = {}\n",
    "    if vae_kwargs is None:\n",
    "        vae_kwargs = {}\n",
    "\n",
    "    Recall = getattr(recall, recall_name)\n",
    "    memory = Recall(**recall_kwargs)\n",
    "\n",
    "    VAE = getattr(vae, vae_name)\n",
    "    model = VAE(**vae_kwargs).to(device)\n",
    "    optimizer = optim.SGD(model.parameters(), lr=lr)\n",
    "\n",
    "    # -- Get the data (assumes data/ exists)\n",
    "    dataset = FashionMNIST(\"data/\", train=True, download=True)\n",
    "\n",
    "    # -- Everything is sane?\n",
    "    num_episodes = int(num_episodes)\n",
    "    num_burn = int(num_burn)\n",
    "    lr = float(lr)\n",
    "    if not np.isclose(sum(fraction), 1):\n",
    "        raise ValueError(\"fractions must sum to 1\")\n",
    "    if num_episodes > (len(dataset) % batch_size):\n",
    "        raise ValueError(f\"num_episodes must be <= {len(dataset) % batch_size}\")\n",
    "\n",
    "    # -- !\n",
    "    options = [\"new\", \"recall\", \"imagine\"]\n",
    "    batch_idx = 0\n",
    "    for n in num_episodes:\n",
    "        # Burn in the model, or consider other options?\n",
    "        if n < num_burn:\n",
    "            option = \"new\"\n",
    "        else:\n",
    "            option = np.random.choice(options, p=fraction)\n",
    "\n",
    "        # Make/get training data\n",
    "        if option == \"new\":\n",
    "            train_batch = dataset[idx : batch_idx + batch_size]\n",
    "            memory.update(train_batch)\n",
    "            batch_idx += batch_size\n",
    "        elif option == \"recall\":\n",
    "            train_batch = memory.sample(batch_size)\n",
    "        else:\n",
    "            train_batch = model.sample(batch_size, device=device)\n",
    "\n",
    "        # Train the vae/model\n",
    "        loss = vae.train(train_batch, model, optimizer, device)\n",
    "\n",
    "    return vae, loss"
   ]
  },
  {
   "cell_type": "code",
   "execution_count": null,
   "metadata": {},
   "outputs": [
    {
     "data": {
      "application/javascript": [
       "\n",
       "            setTimeout(function() {\n",
       "                var nbb_cell_id = 9;\n",
       "                var nbb_unformatted_code = \"# export\\ndef test_fashion(model, device=\\\"cpu\\\"):\\n    test_dataset = FashionMNIST(\\\"data/\\\", train=False)\\n    return vae.test(test_dataset, model, device)\";\n",
       "                var nbb_formatted_code = \"# export\\ndef test_fashion(model, device=\\\"cpu\\\"):\\n    test_dataset = FashionMNIST(\\\"data/\\\", train=False)\\n    return vae.test(test_dataset, model, device)\";\n",
       "                var nbb_cells = Jupyter.notebook.get_cells();\n",
       "                for (var i = 0; i < nbb_cells.length; ++i) {\n",
       "                    if (nbb_cells[i].input_prompt_number == nbb_cell_id) {\n",
       "                        if (nbb_cells[i].get_text() == nbb_unformatted_code) {\n",
       "                             nbb_cells[i].set_text(nbb_formatted_code);\n",
       "                        }\n",
       "                        break;\n",
       "                    }\n",
       "                }\n",
       "            }, 500);\n",
       "            "
      ],
      "text/plain": [
       "<IPython.core.display.Javascript object>"
      ]
     },
     "metadata": {},
     "output_type": "display_data"
    }
   ],
   "source": [
    "# export\n",
    "def test_fashion(model, device=\"cpu\"):\n",
    "    test_dataset = FashionMNIST(\"data/\", train=False)\n",
    "    return vae.test(test_dataset, model, device)"
   ]
  },
  {
   "cell_type": "code",
   "execution_count": null,
   "metadata": {},
   "outputs": [],
   "source": []
  }
 ],
 "metadata": {
  "kernelspec": {
   "display_name": "Python 3",
   "language": "python",
   "name": "python3"
  }
 },
 "nbformat": 4,
 "nbformat_minor": 2
}
