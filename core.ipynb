{
 "cells": [
  {
   "cell_type": "code",
   "execution_count": null,
   "metadata": {},
   "outputs": [],
   "source": [
    "# default_exp core"
   ]
  },
  {
   "cell_type": "markdown",
   "metadata": {},
   "source": [
    "# core\n",
    "\n",
    "> Core functions to run experiments"
   ]
  },
  {
   "cell_type": "code",
   "execution_count": null,
   "metadata": {},
   "outputs": [
    {
     "data": {
      "application/javascript": [
       "\n",
       "            setTimeout(function() {\n",
       "                var nbb_cell_id = 2;\n",
       "                var nbb_unformatted_code = \"# hide\\nfrom nbdev.showdoc import *\\n\\n%load_ext nb_black\\n%matplotlib inline\\n%config InlineBackend.figure_format='retina'\\n%config IPCompleter.greedy=True\";\n",
       "                var nbb_formatted_code = \"# hide\\nfrom nbdev.showdoc import *\\n\\n%load_ext nb_black\\n%matplotlib inline\\n%config InlineBackend.figure_format='retina'\\n%config IPCompleter.greedy=True\";\n",
       "                var nbb_cells = Jupyter.notebook.get_cells();\n",
       "                for (var i = 0; i < nbb_cells.length; ++i) {\n",
       "                    if (nbb_cells[i].input_prompt_number == nbb_cell_id) {\n",
       "                        if (nbb_cells[i].get_text() == nbb_unformatted_code) {\n",
       "                             nbb_cells[i].set_text(nbb_formatted_code);\n",
       "                        }\n",
       "                        break;\n",
       "                    }\n",
       "                }\n",
       "            }, 500);\n",
       "            "
      ],
      "text/plain": [
       "<IPython.core.display.Javascript object>"
      ]
     },
     "metadata": {},
     "output_type": "display_data"
    }
   ],
   "source": [
    "# hide\n",
    "from nbdev.showdoc import *\n",
    "\n",
    "%load_ext nb_black\n",
    "%matplotlib inline\n",
    "%config InlineBackend.figure_format='retina'\n",
    "%config IPCompleter.greedy=True"
   ]
  },
  {
   "cell_type": "code",
   "execution_count": null,
   "metadata": {},
   "outputs": [
    {
     "data": {
      "application/javascript": [
       "\n",
       "            setTimeout(function() {\n",
       "                var nbb_cell_id = 3;\n",
       "                var nbb_unformatted_code = \"# export\\nfrom torchvision.datasets import FashionMNIST\\nimport numpy as np\\n\\nimport torch\\nimport torch as th\\nimport torch.optim as optim\\nimport torch.nn.functional as F\\n\\nfrom torch.utils.tensorboard import SummaryWriter\";\n",
       "                var nbb_formatted_code = \"# export\\nfrom torchvision.datasets import FashionMNIST\\nimport numpy as np\\n\\nimport torch\\nimport torch as th\\nimport torch.optim as optim\\nimport torch.nn.functional as F\\n\\nfrom torch.utils.tensorboard import SummaryWriter\";\n",
       "                var nbb_cells = Jupyter.notebook.get_cells();\n",
       "                for (var i = 0; i < nbb_cells.length; ++i) {\n",
       "                    if (nbb_cells[i].input_prompt_number == nbb_cell_id) {\n",
       "                        if (nbb_cells[i].get_text() == nbb_unformatted_code) {\n",
       "                             nbb_cells[i].set_text(nbb_formatted_code);\n",
       "                        }\n",
       "                        break;\n",
       "                    }\n",
       "                }\n",
       "            }, 500);\n",
       "            "
      ],
      "text/plain": [
       "<IPython.core.display.Javascript object>"
      ]
     },
     "metadata": {},
     "output_type": "display_data"
    }
   ],
   "source": [
    "# export\n",
    "from torchvision.datasets import FashionMNIST\n",
    "import numpy as np\n",
    "\n",
    "import torch\n",
    "import torch as th\n",
    "import torch.optim as optim\n",
    "import torch.nn.functional as F\n",
    "\n",
    "from torch.utils.tensorboard import SummaryWriter"
   ]
  },
  {
   "cell_type": "code",
   "execution_count": null,
   "metadata": {},
   "outputs": [
    {
     "data": {
      "application/javascript": [
       "\n",
       "            setTimeout(function() {\n",
       "                var nbb_cell_id = 4;\n",
       "                var nbb_unformatted_code = \"# export\\nfrom newremagine import vae\\nfrom newremagine import recall\";\n",
       "                var nbb_formatted_code = \"# export\\nfrom newremagine import vae\\nfrom newremagine import recall\";\n",
       "                var nbb_cells = Jupyter.notebook.get_cells();\n",
       "                for (var i = 0; i < nbb_cells.length; ++i) {\n",
       "                    if (nbb_cells[i].input_prompt_number == nbb_cell_id) {\n",
       "                        if (nbb_cells[i].get_text() == nbb_unformatted_code) {\n",
       "                             nbb_cells[i].set_text(nbb_formatted_code);\n",
       "                        }\n",
       "                        break;\n",
       "                    }\n",
       "                }\n",
       "            }, 500);\n",
       "            "
      ],
      "text/plain": [
       "<IPython.core.display.Javascript object>"
      ]
     },
     "metadata": {},
     "output_type": "display_data"
    }
   ],
   "source": [
    "# export\n",
    "from newremagine import vae\n",
    "from newremagine import recall"
   ]
  },
  {
   "cell_type": "code",
   "execution_count": null,
   "metadata": {},
   "outputs": [
    {
     "data": {
      "application/javascript": [
       "\n",
       "            setTimeout(function() {\n",
       "                var nbb_cell_id = 12;\n",
       "                var nbb_unformatted_code = \"# export\\n# `newremagine`\\ndef train(\\n    fraction,\\n    train_dataset,\\n    num_episodes=10,\\n    batch_size=10,\\n    num_burn=1,\\n    lr=0.001,\\n    device=\\\"cpu\\\",\\n    perfect=True,\\n    recall_name=\\\"Recall\\\",\\n    recall_kwargs=None,\\n    vae_name=\\\"VAE\\\",\\n    vae_kwargs=None,\\n):\\n\\n    # -- Init memories\\n    if recall_kwargs is None:\\n        recall_kwargs = {}\\n    if vae_kwargs is None:\\n        vae_kwargs = {}\\n\\n    Recall = getattr(recall, recall_name)\\n    memory = Recall(**recall_kwargs)\\n\\n    VAE = getattr(vae, vae_name)\\n    model = VAE(**vae_kwargs).to(device)\\n    optimizer = optim.SGD(model.parameters(), lr=lr)\\n\\n    # -- Everything is sane?\\n    num_episodes = int(num_episodes)\\n    num_burn = int(num_burn)\\n    lr = float(lr)\\n    if not np.isclose(sum(fraction), 1):\\n        raise ValueError(\\\"fractions must sum to 1\\\")\\n\\n    # -- !\\n    options = [\\\"new\\\", \\\"recall\\\", \\\"imagine\\\"]\\n    batch_idx = 0\\n    for n in range(num_episodes):\\n        # Burn in the model, or consider other options?\\n        if n < num_burn:\\n            option = \\\"new\\\"\\n        else:\\n            option = np.random.choice(options, p=fraction)\\n\\n        # Make/get training data\\n        if option == \\\"new\\\":\\n            # Get new data\\n            train_batch = [\\n                train_dataset[i][0] for i in range(batch_idx, batch_idx + batch_size)\\n            ]\\n            train_batch = torch.stack(train_batch)\\n            batch_idx += batch_size\\n            # ....\\n            # If the memory is perfect we recall the training data later\\n            # If the memory is imperfect we add the reconstructed data\\n            if perfect:\\n                memory.encode(train_batch)\\n            else:\\n                with torch.no_grad():\\n                    recon_batch, _, _ = model(train_batch)\\n                    memory.encode(recon_batch)\\n\\n        elif option == \\\"recall\\\":\\n            train_batch = memory.sample(1)\\n        else:\\n            # Sampling from the VAE model is a kind of\\n            # imagination, or so we imagine in here\\n            train_batch = model.sample(batch_size, device=device)\\n\\n        # Train the vae/model\\n        loss = vae.train(train_batch, model, optimizer, device, model.input_dim)\\n\\n    return model, memory, float(loss)\";\n",
       "                var nbb_formatted_code = \"# export\\n# `newremagine`\\ndef train(\\n    fraction,\\n    train_dataset,\\n    num_episodes=10,\\n    batch_size=10,\\n    num_burn=1,\\n    lr=0.001,\\n    device=\\\"cpu\\\",\\n    perfect=True,\\n    recall_name=\\\"Recall\\\",\\n    recall_kwargs=None,\\n    vae_name=\\\"VAE\\\",\\n    vae_kwargs=None,\\n):\\n\\n    # -- Init memories\\n    if recall_kwargs is None:\\n        recall_kwargs = {}\\n    if vae_kwargs is None:\\n        vae_kwargs = {}\\n\\n    Recall = getattr(recall, recall_name)\\n    memory = Recall(**recall_kwargs)\\n\\n    VAE = getattr(vae, vae_name)\\n    model = VAE(**vae_kwargs).to(device)\\n    optimizer = optim.SGD(model.parameters(), lr=lr)\\n\\n    # -- Everything is sane?\\n    num_episodes = int(num_episodes)\\n    num_burn = int(num_burn)\\n    lr = float(lr)\\n    if not np.isclose(sum(fraction), 1):\\n        raise ValueError(\\\"fractions must sum to 1\\\")\\n\\n    # -- !\\n    options = [\\\"new\\\", \\\"recall\\\", \\\"imagine\\\"]\\n    batch_idx = 0\\n    for n in range(num_episodes):\\n        # Burn in the model, or consider other options?\\n        if n < num_burn:\\n            option = \\\"new\\\"\\n        else:\\n            option = np.random.choice(options, p=fraction)\\n\\n        # Make/get training data\\n        if option == \\\"new\\\":\\n            # Get new data\\n            train_batch = [\\n                train_dataset[i][0] for i in range(batch_idx, batch_idx + batch_size)\\n            ]\\n            train_batch = torch.stack(train_batch)\\n            batch_idx += batch_size\\n            # ....\\n            # If the memory is perfect we recall the training data later\\n            # If the memory is imperfect we add the reconstructed data\\n            if perfect:\\n                memory.encode(train_batch)\\n            else:\\n                with torch.no_grad():\\n                    recon_batch, _, _ = model(train_batch)\\n                    memory.encode(recon_batch)\\n\\n        elif option == \\\"recall\\\":\\n            train_batch = memory.sample(1)\\n        else:\\n            # Sampling from the VAE model is a kind of\\n            # imagination, or so we imagine in here\\n            train_batch = model.sample(batch_size, device=device)\\n\\n        # Train the vae/model\\n        loss = vae.train(train_batch, model, optimizer, device, model.input_dim)\\n\\n    return model, memory, float(loss)\";\n",
       "                var nbb_cells = Jupyter.notebook.get_cells();\n",
       "                for (var i = 0; i < nbb_cells.length; ++i) {\n",
       "                    if (nbb_cells[i].input_prompt_number == nbb_cell_id) {\n",
       "                        if (nbb_cells[i].get_text() == nbb_unformatted_code) {\n",
       "                             nbb_cells[i].set_text(nbb_formatted_code);\n",
       "                        }\n",
       "                        break;\n",
       "                    }\n",
       "                }\n",
       "            }, 500);\n",
       "            "
      ],
      "text/plain": [
       "<IPython.core.display.Javascript object>"
      ]
     },
     "metadata": {},
     "output_type": "display_data"
    }
   ],
   "source": [
    "# export\n",
    "# `newremagine`\n",
    "def train(\n",
    "    fraction,\n",
    "    train_dataset,\n",
    "    num_episodes=10,\n",
    "    batch_size=10,\n",
    "    num_burn=1,\n",
    "    lr=0.001,\n",
    "    device=\"cpu\",\n",
    "    perfect=True,\n",
    "    recall_name=\"Recall\",\n",
    "    recall_kwargs=None,\n",
    "    vae_name=\"VAE\",\n",
    "    vae_kwargs=None,\n",
    "):\n",
    "\n",
    "    # -- Init memories\n",
    "    if recall_kwargs is None:\n",
    "        recall_kwargs = {}\n",
    "    if vae_kwargs is None:\n",
    "        vae_kwargs = {}\n",
    "\n",
    "    Recall = getattr(recall, recall_name)\n",
    "    memory = Recall(**recall_kwargs)\n",
    "\n",
    "    VAE = getattr(vae, vae_name)\n",
    "    model = VAE(**vae_kwargs).to(device)\n",
    "    optimizer = optim.SGD(model.parameters(), lr=lr)\n",
    "\n",
    "    # -- Everything is sane?\n",
    "    num_episodes = int(num_episodes)\n",
    "    num_burn = int(num_burn)\n",
    "    lr = float(lr)\n",
    "    if not np.isclose(sum(fraction), 1):\n",
    "        raise ValueError(\"fractions must sum to 1\")\n",
    "\n",
    "    # -- !\n",
    "    options = [\"new\", \"recall\", \"imagine\"]\n",
    "    batch_idx = 0\n",
    "    for n in range(num_episodes):\n",
    "        # Burn in the model, or consider other options?\n",
    "        if n < num_burn:\n",
    "            option = \"new\"\n",
    "        else:\n",
    "            option = np.random.choice(options, p=fraction)\n",
    "\n",
    "        # Make/get training data\n",
    "        if option == \"new\":\n",
    "            # Get new data\n",
    "            train_batch = [\n",
    "                train_dataset[i][0] for i in range(batch_idx, batch_idx + batch_size)\n",
    "            ]\n",
    "            train_batch = torch.stack(train_batch)\n",
    "            batch_idx += batch_size\n",
    "            # ....\n",
    "            # If the memory is perfect we recall the training data later\n",
    "            # If the memory is imperfect we add the reconstructed data\n",
    "            if perfect:\n",
    "                memory.encode(train_batch)\n",
    "            else:\n",
    "                with torch.no_grad():\n",
    "                    recon_batch, _, _ = model(train_batch)\n",
    "                    memory.encode(recon_batch)\n",
    "\n",
    "        elif option == \"recall\":\n",
    "            train_batch = memory.sample(1)\n",
    "        else:\n",
    "            # Sampling from the VAE model is a kind of\n",
    "            # imagination, or so we imagine in here\n",
    "            train_batch = model.sample(batch_size, device=device)\n",
    "\n",
    "        # Train the vae/model\n",
    "        loss = vae.train(train_batch, model, optimizer, device, model.input_dim)\n",
    "\n",
    "    return model, memory, float(loss)"
   ]
  },
  {
   "cell_type": "code",
   "execution_count": null,
   "metadata": {},
   "outputs": [
    {
     "name": "stdout",
     "output_type": "stream",
     "text": [
      "3842.5419921875\n"
     ]
    },
    {
     "data": {
      "application/javascript": [
       "\n",
       "            setTimeout(function() {\n",
       "                var nbb_cell_id = 13;\n",
       "                var nbb_unformatted_code = \"# test\\nfrom torchvision import datasets, transforms\\nfrom torchvision.datasets import MNIST\\nfrom torchvision.datasets import FashionMNIST\\n\\ntrain_dataset = FashionMNIST(\\n    \\\"data/\\\", download=True, train=True, transform=transforms.ToTensor()\\n)\\n\\nfraction = [0.6, 0.3, 0.1]\\nmodel, memory, loss = train(\\n    fraction, train_dataset, num_episodes=1000, num_burn=100, perfect=False\\n)\\nprint(loss)\";\n",
       "                var nbb_formatted_code = \"# test\\nfrom torchvision import datasets, transforms\\nfrom torchvision.datasets import MNIST\\nfrom torchvision.datasets import FashionMNIST\\n\\ntrain_dataset = FashionMNIST(\\n    \\\"data/\\\", download=True, train=True, transform=transforms.ToTensor()\\n)\\n\\nfraction = [0.6, 0.3, 0.1]\\nmodel, memory, loss = train(\\n    fraction, train_dataset, num_episodes=1000, num_burn=100, perfect=False\\n)\\nprint(loss)\";\n",
       "                var nbb_cells = Jupyter.notebook.get_cells();\n",
       "                for (var i = 0; i < nbb_cells.length; ++i) {\n",
       "                    if (nbb_cells[i].input_prompt_number == nbb_cell_id) {\n",
       "                        if (nbb_cells[i].get_text() == nbb_unformatted_code) {\n",
       "                             nbb_cells[i].set_text(nbb_formatted_code);\n",
       "                        }\n",
       "                        break;\n",
       "                    }\n",
       "                }\n",
       "            }, 500);\n",
       "            "
      ],
      "text/plain": [
       "<IPython.core.display.Javascript object>"
      ]
     },
     "metadata": {},
     "output_type": "display_data"
    }
   ],
   "source": [
    "# test\n",
    "from torchvision import datasets, transforms\n",
    "from torchvision.datasets import MNIST\n",
    "from torchvision.datasets import FashionMNIST\n",
    "\n",
    "train_dataset = FashionMNIST(\n",
    "    \"data/\", download=True, train=True, transform=transforms.ToTensor()\n",
    ")\n",
    "\n",
    "fraction = [0.6, 0.3, 0.1]\n",
    "model, memory, loss = train(\n",
    "    fraction, train_dataset, num_episodes=1000, num_burn=100, perfect=False\n",
    ")\n",
    "print(loss)"
   ]
  },
  {
   "cell_type": "code",
   "execution_count": null,
   "metadata": {},
   "outputs": [
    {
     "data": {
      "application/javascript": [
       "\n",
       "            setTimeout(function() {\n",
       "                var nbb_cell_id = 8;\n",
       "                var nbb_unformatted_code = \"# export\\ndef test(model, test_dataset, device=\\\"cpu\\\"):\\n    return vae.test(test_dataset, model, device, model.input_dim)\";\n",
       "                var nbb_formatted_code = \"# export\\ndef test(model, test_dataset, device=\\\"cpu\\\"):\\n    return vae.test(test_dataset, model, device, model.input_dim)\";\n",
       "                var nbb_cells = Jupyter.notebook.get_cells();\n",
       "                for (var i = 0; i < nbb_cells.length; ++i) {\n",
       "                    if (nbb_cells[i].input_prompt_number == nbb_cell_id) {\n",
       "                        if (nbb_cells[i].get_text() == nbb_unformatted_code) {\n",
       "                             nbb_cells[i].set_text(nbb_formatted_code);\n",
       "                        }\n",
       "                        break;\n",
       "                    }\n",
       "                }\n",
       "            }, 500);\n",
       "            "
      ],
      "text/plain": [
       "<IPython.core.display.Javascript object>"
      ]
     },
     "metadata": {},
     "output_type": "display_data"
    }
   ],
   "source": [
    "# export\n",
    "def test(model, test_dataset, device=\"cpu\"):\n",
    "    return vae.test(test_dataset, model, device, model.input_dim)"
   ]
  },
  {
   "cell_type": "code",
   "execution_count": null,
   "metadata": {},
   "outputs": [
    {
     "data": {
      "text/plain": [
       "3643071.3367614746"
      ]
     },
     "execution_count": null,
     "metadata": {},
     "output_type": "execute_result"
    },
    {
     "data": {
      "application/javascript": [
       "\n",
       "            setTimeout(function() {\n",
       "                var nbb_cell_id = 9;\n",
       "                var nbb_unformatted_code = \"# test\\ntest_dataset = FashionMNIST(\\n    \\\"data/\\\", download=True, train=False, transform=transforms.ToTensor()\\n)\\ntest(model, test_dataset)\";\n",
       "                var nbb_formatted_code = \"# test\\ntest_dataset = FashionMNIST(\\n    \\\"data/\\\", download=True, train=False, transform=transforms.ToTensor()\\n)\\ntest(model, test_dataset)\";\n",
       "                var nbb_cells = Jupyter.notebook.get_cells();\n",
       "                for (var i = 0; i < nbb_cells.length; ++i) {\n",
       "                    if (nbb_cells[i].input_prompt_number == nbb_cell_id) {\n",
       "                        if (nbb_cells[i].get_text() == nbb_unformatted_code) {\n",
       "                             nbb_cells[i].set_text(nbb_formatted_code);\n",
       "                        }\n",
       "                        break;\n",
       "                    }\n",
       "                }\n",
       "            }, 500);\n",
       "            "
      ],
      "text/plain": [
       "<IPython.core.display.Javascript object>"
      ]
     },
     "metadata": {},
     "output_type": "display_data"
    }
   ],
   "source": [
    "# test\n",
    "test_dataset = FashionMNIST(\n",
    "    \"data/\", download=True, train=False, transform=transforms.ToTensor()\n",
    ")\n",
    "test(model, test_dataset)"
   ]
  },
  {
   "cell_type": "code",
   "execution_count": null,
   "metadata": {},
   "outputs": [],
   "source": []
  }
 ],
 "metadata": {
  "kernelspec": {
   "display_name": "Python 3",
   "language": "python",
   "name": "python3"
  }
 },
 "nbformat": 4,
 "nbformat_minor": 2
}
