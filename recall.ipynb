{
 "cells": [
  {
   "cell_type": "code",
   "execution_count": null,
   "metadata": {},
   "outputs": [
    {
     "data": {
      "application/javascript": [
       "\n",
       "            setTimeout(function() {\n",
       "                var nbb_cell_id = 2;\n",
       "                var nbb_unformatted_code = \"# default_exp recall\";\n",
       "                var nbb_formatted_code = \"# default_exp recall\";\n",
       "                var nbb_cells = Jupyter.notebook.get_cells();\n",
       "                for (var i = 0; i < nbb_cells.length; ++i) {\n",
       "                    if (nbb_cells[i].input_prompt_number == nbb_cell_id) {\n",
       "                        if (nbb_cells[i].get_text() == nbb_unformatted_code) {\n",
       "                             nbb_cells[i].set_text(nbb_formatted_code);\n",
       "                        }\n",
       "                        break;\n",
       "                    }\n",
       "                }\n",
       "            }, 500);\n",
       "            "
      ],
      "text/plain": [
       "<IPython.core.display.Javascript object>"
      ]
     },
     "metadata": {},
     "output_type": "display_data"
    }
   ],
   "source": [
    "# default_exp recall"
   ]
  },
  {
   "cell_type": "markdown",
   "metadata": {},
   "source": [
    "# recall\n",
    "\n",
    "> Memories for (perfect) recall"
   ]
  },
  {
   "cell_type": "code",
   "execution_count": null,
   "metadata": {},
   "outputs": [
    {
     "name": "stdout",
     "output_type": "stream",
     "text": [
      "The nb_black extension is already loaded. To reload it, use:\n",
      "  %reload_ext nb_black\n"
     ]
    },
    {
     "data": {
      "application/javascript": [
       "\n",
       "            setTimeout(function() {\n",
       "                var nbb_cell_id = 12;\n",
       "                var nbb_unformatted_code = \"# hide\\nfrom nbdev.showdoc import *\\n\\n%load_ext nb_black\\n%matplotlib inline\\n%config InlineBackend.figure_format='retina'\\n%config IPCompleter.greedy=True\";\n",
       "                var nbb_formatted_code = \"# hide\\nfrom nbdev.showdoc import *\\n\\n%load_ext nb_black\\n%matplotlib inline\\n%config InlineBackend.figure_format='retina'\\n%config IPCompleter.greedy=True\";\n",
       "                var nbb_cells = Jupyter.notebook.get_cells();\n",
       "                for (var i = 0; i < nbb_cells.length; ++i) {\n",
       "                    if (nbb_cells[i].input_prompt_number == nbb_cell_id) {\n",
       "                        if (nbb_cells[i].get_text() == nbb_unformatted_code) {\n",
       "                             nbb_cells[i].set_text(nbb_formatted_code);\n",
       "                        }\n",
       "                        break;\n",
       "                    }\n",
       "                }\n",
       "            }, 500);\n",
       "            "
      ],
      "text/plain": [
       "<IPython.core.display.Javascript object>"
      ]
     },
     "metadata": {},
     "output_type": "display_data"
    }
   ],
   "source": [
    "# hide\n",
    "from nbdev.showdoc import *\n",
    "\n",
    "%load_ext nb_black\n",
    "%matplotlib inline\n",
    "%config InlineBackend.figure_format='retina'\n",
    "%config IPCompleter.greedy=True"
   ]
  },
  {
   "cell_type": "code",
   "execution_count": null,
   "metadata": {},
   "outputs": [
    {
     "data": {
      "application/javascript": [
       "\n",
       "            setTimeout(function() {\n",
       "                var nbb_cell_id = 20;\n",
       "                var nbb_unformatted_code = \"# export\\nimport sys\\nimport numpy as np\";\n",
       "                var nbb_formatted_code = \"# export\\nimport sys\\nimport numpy as np\";\n",
       "                var nbb_cells = Jupyter.notebook.get_cells();\n",
       "                for (var i = 0; i < nbb_cells.length; ++i) {\n",
       "                    if (nbb_cells[i].input_prompt_number == nbb_cell_id) {\n",
       "                        if (nbb_cells[i].get_text() == nbb_unformatted_code) {\n",
       "                             nbb_cells[i].set_text(nbb_formatted_code);\n",
       "                        }\n",
       "                        break;\n",
       "                    }\n",
       "                }\n",
       "            }, 500);\n",
       "            "
      ],
      "text/plain": [
       "<IPython.core.display.Javascript object>"
      ]
     },
     "metadata": {},
     "output_type": "display_data"
    }
   ],
   "source": [
    "# export\n",
    "import sys\n",
    "import numpy as np"
   ]
  },
  {
   "cell_type": "markdown",
   "metadata": {},
   "source": [
    "Let's make a simple kind of memory. One the perfectly remembers what it sees, but that has only so many slots to store experience. Once the slots are full it starts overwriting the oldest memories first. I'll call this the `Recall` memory. \n",
    "\n",
    "- The `capacity` is the size of the memory.\n",
    "- The `encode(*arg)` add memories (in order). \n",
    "- The `sample()` method samples `n` experiences"
   ]
  },
  {
   "cell_type": "code",
   "execution_count": null,
   "metadata": {},
   "outputs": [
    {
     "data": {
      "application/javascript": [
       "\n",
       "            setTimeout(function() {\n",
       "                var nbb_cell_id = 7;\n",
       "                var nbb_unformatted_code = \"# export\\nclass Recall(object):\\n    def __init__(self, capacity):\\n        self.capacity = capacity\\n        self.memory = []\\n        self.position = 0\\n\\n    def encode(self, *args):\\n        \\\"\\\"\\\"Saves a memory tuple.\\\"\\\"\\\"\\n        if len(self.memory) < self.capacity:\\n            self.memory.append(None)\\n\\n        self.memory[self.position] = Transition(*args)\\n        self.position = (self.position + 1) % self.capacity\\n\\n    def __call__(self, *args):\\n        self.encode(*args)\\n\\n    def sample(self, n):\\n        return random.sample(self.memory, n)\\n\\n    def __len__(self):\\n        return len(self.memory)\";\n",
       "                var nbb_formatted_code = \"# export\\nclass Recall(object):\\n    def __init__(self, capacity):\\n        self.capacity = capacity\\n        self.memory = []\\n        self.position = 0\\n\\n    def encode(self, *args):\\n        \\\"\\\"\\\"Saves a memory tuple.\\\"\\\"\\\"\\n        if len(self.memory) < self.capacity:\\n            self.memory.append(None)\\n\\n        self.memory[self.position] = Transition(*args)\\n        self.position = (self.position + 1) % self.capacity\\n\\n    def __call__(self, *args):\\n        self.encode(*args)\\n\\n    def sample(self, n):\\n        return random.sample(self.memory, n)\\n\\n    def __len__(self):\\n        return len(self.memory)\";\n",
       "                var nbb_cells = Jupyter.notebook.get_cells();\n",
       "                for (var i = 0; i < nbb_cells.length; ++i) {\n",
       "                    if (nbb_cells[i].input_prompt_number == nbb_cell_id) {\n",
       "                        if (nbb_cells[i].get_text() == nbb_unformatted_code) {\n",
       "                             nbb_cells[i].set_text(nbb_formatted_code);\n",
       "                        }\n",
       "                        break;\n",
       "                    }\n",
       "                }\n",
       "            }, 500);\n",
       "            "
      ],
      "text/plain": [
       "<IPython.core.display.Javascript object>"
      ]
     },
     "metadata": {},
     "output_type": "display_data"
    }
   ],
   "source": [
    "# export\n",
    "class Recall(object):\n",
    "    def __init__(self, capacity):\n",
    "        self.capacity = capacity\n",
    "        self.memory = []\n",
    "        self.position = 0\n",
    "\n",
    "    def encode(self, *args):\n",
    "        \"\"\"Saves a memory tuple.\"\"\"\n",
    "        # Pad out\n",
    "        if len(self.memory) < self.capacity:\n",
    "            self.memory.append(None)\n",
    "        # Remember\n",
    "        self.memory[self.position] = Transition(*args)\n",
    "        self.position = (self.position + 1) % self.capacity\n",
    "\n",
    "    def __call__(self, *args):\n",
    "        self.encode(*args)\n",
    "\n",
    "    def sample(self, n):\n",
    "        return random.sample(self.memory, n)\n",
    "\n",
    "    def __len__(self):\n",
    "        return len(self.memory)"
   ]
  },
  {
   "cell_type": "markdown",
   "metadata": {},
   "source": [
    "Now let's make another memory. This one is nearly the same except we add a way to prioritize recall. The priority can be any number > 0. Larger numbers mean higher priority. "
   ]
  },
  {
   "cell_type": "code",
   "execution_count": null,
   "metadata": {},
   "outputs": [
    {
     "data": {
      "application/javascript": [
       "\n",
       "            setTimeout(function() {\n",
       "                var nbb_cell_id = 32;\n",
       "                var nbb_unformatted_code = \"# export\\nclass PriorityRecall(object):\\n    def __init__(self, capacity):\\n        self.capacity = capacity\\n        self.memory = []\\n        self.priority = []\\n        self.probs =None\\n        self.position = 0\\n        # Prevents div by 0 problems\\n        self.eps = sys.float_info.min\\n\\n    def encode(self, weight, *args):\\n        \\\"\\\"\\\"Saves a weight and a memory tuple.\\\"\\\"\\\"\\n        # Sanity\\n        weight = float(weight)\\n        if np.isclose(weight, 0.0):\\n            raise ValueError(\\\"w must be > 0\\\")\\n        # Pad out\\n        if len(self.memory) < self.capacity:\\n            self.memory.append(None)\\n            self.priority.append(None)\\n        # Remember\\n        self.priority[self.position] = weight\\n        self.memory[self.position] = Transition(*args)\\n        self.position = (self.position + 1) % self.capacity\\n\\n    def __call__(self, weight, *args):\\n        self.encode(weight, *args)\\n\\n    def sample(self, n):\\n        # Est probs from priority weights\\n        summed = sum(self.weight) + self.eps\\n        self.probs = [w / summed for w in self.priority]\\n        # Wieghted sample\\n        return np.random.choice(self.memory, size=n, p=self.probs).tolist()\\n\\n    def __len__(self):\\n        return len(self.memory)\";\n",
       "                var nbb_formatted_code = \"# export\\nclass PriorityRecall(object):\\n    def __init__(self, capacity):\\n        self.capacity = capacity\\n        self.memory = []\\n        self.priority = []\\n        self.probs = None\\n        self.position = 0\\n        # Prevents div by 0 problems\\n        self.eps = sys.float_info.min\\n\\n    def encode(self, weight, *args):\\n        \\\"\\\"\\\"Saves a weight and a memory tuple.\\\"\\\"\\\"\\n        # Sanity\\n        weight = float(weight)\\n        if np.isclose(weight, 0.0):\\n            raise ValueError(\\\"w must be > 0\\\")\\n        # Pad out\\n        if len(self.memory) < self.capacity:\\n            self.memory.append(None)\\n            self.priority.append(None)\\n        # Remember\\n        self.priority[self.position] = weight\\n        self.memory[self.position] = Transition(*args)\\n        self.position = (self.position + 1) % self.capacity\\n\\n    def __call__(self, weight, *args):\\n        self.encode(weight, *args)\\n\\n    def sample(self, n):\\n        # Est probs from priority weights\\n        summed = sum(self.weight) + self.eps\\n        self.probs = [w / summed for w in self.priority]\\n        # Wieghted sample\\n        return np.random.choice(self.memory, size=n, p=self.probs).tolist()\\n\\n    def __len__(self):\\n        return len(self.memory)\";\n",
       "                var nbb_cells = Jupyter.notebook.get_cells();\n",
       "                for (var i = 0; i < nbb_cells.length; ++i) {\n",
       "                    if (nbb_cells[i].input_prompt_number == nbb_cell_id) {\n",
       "                        if (nbb_cells[i].get_text() == nbb_unformatted_code) {\n",
       "                             nbb_cells[i].set_text(nbb_formatted_code);\n",
       "                        }\n",
       "                        break;\n",
       "                    }\n",
       "                }\n",
       "            }, 500);\n",
       "            "
      ],
      "text/plain": [
       "<IPython.core.display.Javascript object>"
      ]
     },
     "metadata": {},
     "output_type": "display_data"
    }
   ],
   "source": [
    "# export\n",
    "class PriorityRecall(object):\n",
    "    def __init__(self, capacity):\n",
    "        self.capacity = capacity\n",
    "        self.memory = []\n",
    "        self.priority = []\n",
    "        self.probs = None\n",
    "        self.position = 0\n",
    "        # Prevents div by 0 problems\n",
    "        self.eps = sys.float_info.min\n",
    "\n",
    "    def encode(self, weight, *args):\n",
    "        \"\"\"Saves a weight and a memory tuple.\"\"\"\n",
    "        # Sanity\n",
    "        weight = float(weight)\n",
    "        if np.isclose(weight, 0.0):\n",
    "            raise ValueError(\"w must be > 0\")\n",
    "        # Pad out\n",
    "        if len(self.memory) < self.capacity:\n",
    "            self.memory.append(None)\n",
    "            self.priority.append(None)\n",
    "        # Remember\n",
    "        self.priority[self.position] = weight\n",
    "        self.memory[self.position] = Transition(*args)\n",
    "        self.position = (self.position + 1) % self.capacity\n",
    "\n",
    "    def __call__(self, weight, *args):\n",
    "        self.encode(weight, *args)\n",
    "\n",
    "    def sample(self, n):\n",
    "        # Est probs from priority weights\n",
    "        summed = sum(self.weight) + self.eps\n",
    "        self.probs = [w / summed for w in self.priority]\n",
    "        # Wieghted sample\n",
    "        return np.random.choice(self.memory, size=n, p=self.probs).tolist()\n",
    "\n",
    "    def __len__(self):\n",
    "        return len(self.memory)"
   ]
  },
  {
   "cell_type": "code",
   "execution_count": null,
   "metadata": {},
   "outputs": [],
   "source": []
  }
 ],
 "metadata": {
  "kernelspec": {
   "display_name": "Python 3",
   "language": "python",
   "name": "python3"
  }
 },
 "nbformat": 4,
 "nbformat_minor": 2
}
