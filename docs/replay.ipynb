{
 "cells": [
  {
   "cell_type": "markdown",
   "metadata": {},
   "source": [
    "# newremainge.replay\n",
    "\n",
    "> A set of classes to replay past experience"
   ]
  },
  {
   "cell_type": "markdown",
   "metadata": {},
   "source": [
    "# About replay\n",
    "\n",
    "A replay memory can be thought of as a slot memory, with a fixed number of slots. Once the capacity is exceeded the oldest memory is replaced first. \n",
    "\n",
    "They are useful in deep learning as means to sample past experiences. Sampling the past has been shown to speed learning up as well as to stabilize it.\n",
    "\n",
    "There are two memory Classes available in this module. The first is as we described above. The second adds the ability to \"score\" past memories by their usefulness, and sample inline with this. So we give the memory a priority, in other words."
   ]
  },
  {
   "cell_type": "code",
   "execution_count": 1,
   "metadata": {},
   "outputs": [],
   "source": [
    "from newremagine.replay import Replay\n",
    "from newremagine.replay import PriorityReplay"
   ]
  },
  {
   "cell_type": "markdown",
   "metadata": {},
   "source": [
    "# Replay\n",
    "> A finite capacity slot memory"
   ]
  },
  {
   "cell_type": "code",
   "execution_count": 2,
   "metadata": {},
   "outputs": [
    {
     "name": "stdout",
     "output_type": "stream",
     "text": [
      "A finite capacity slot memory\n",
      "    \n",
      "    Params\n",
      "    -----\n",
      "    capacity : int\n",
      "        The size of the memry\n",
      "    \n"
     ]
    }
   ],
   "source": [
    "print(Replay.__doc__)"
   ]
  },
  {
   "cell_type": "markdown",
   "metadata": {},
   "source": [
    "### Methods"
   ]
  },
  {
   "cell_type": "code",
   "execution_count": 3,
   "metadata": {},
   "outputs": [
    {
     "name": "stdout",
     "output_type": "stream",
     "text": [
      "Randomly sample `n` memories\n"
     ]
    }
   ],
   "source": [
    "print(Replay.sample.__doc__)"
   ]
  },
  {
   "cell_type": "code",
   "execution_count": 4,
   "metadata": {},
   "outputs": [
    {
     "name": "stdout",
     "output_type": "stream",
     "text": [
      "Saves a memory, x.\n"
     ]
    }
   ],
   "source": [
    "print(Replay.encode.__doc__)"
   ]
  },
  {
   "cell_type": "markdown",
   "metadata": {},
   "source": [
    "# PriorityReplay\n",
    "> A finite capacity slot memory, with priorities"
   ]
  },
  {
   "cell_type": "code",
   "execution_count": 5,
   "metadata": {},
   "outputs": [
    {
     "name": "stdout",
     "output_type": "stream",
     "text": [
      "A finite capacity slot memory, with priorities\n",
      "    \n",
      "    Params\n",
      "    -----\n",
      "    capacity : int\n",
      "        The size of the memry\n",
      "    \n"
     ]
    }
   ],
   "source": [
    "print(PriorityReplay.__doc__)"
   ]
  },
  {
   "cell_type": "markdown",
   "metadata": {},
   "source": [
    "### Methods"
   ]
  },
  {
   "cell_type": "code",
   "execution_count": 6,
   "metadata": {},
   "outputs": [
    {
     "name": "stdout",
     "output_type": "stream",
     "text": [
      "A wieghted sample of n memories\n"
     ]
    }
   ],
   "source": [
    "print(PriorityReplay.sample.__doc__)"
   ]
  },
  {
   "cell_type": "code",
   "execution_count": 7,
   "metadata": {},
   "outputs": [
    {
     "name": "stdout",
     "output_type": "stream",
     "text": [
      "Saves a priority weight and a memory, x.\n"
     ]
    }
   ],
   "source": [
    "print(PriorityReplay.encode.__doc__)"
   ]
  },
  {
   "cell_type": "markdown",
   "metadata": {},
   "source": [
    "# Usage\n",
    "\n",
    "In the core functionality we use replay memories to save and sample torch arrays. In the end though, they are just big fancy lists who will encode any python object. As example well save and replay a simple list of numbers. \n",
    "\n",
    "To see how replay is used with torch, read the code for `newremagine.core.train()`."
   ]
  },
  {
   "cell_type": "code",
   "execution_count": 11,
   "metadata": {},
   "outputs": [
    {
     "name": "stdout",
     "output_type": "stream",
     "text": [
      "The nb_black extension is already loaded. To reload it, use:\n",
      "  %reload_ext nb_black\n"
     ]
    },
    {
     "data": {
      "application/javascript": [
       "\n",
       "            setTimeout(function() {\n",
       "                var nbb_cell_id = 11;\n",
       "                var nbb_unformatted_code = \"%load_ext nb_black\\n%matplotlib inline\\n%config InlineBackend.figure_format='retina'\\n%config IPCompleter.greedy=True\\n\\nimport matplotlib.pyplot as plt\";\n",
       "                var nbb_formatted_code = \"%load_ext nb_black\\n%matplotlib inline\\n%config InlineBackend.figure_format='retina'\\n%config IPCompleter.greedy=True\\n\\nimport matplotlib.pyplot as plt\";\n",
       "                var nbb_cells = Jupyter.notebook.get_cells();\n",
       "                for (var i = 0; i < nbb_cells.length; ++i) {\n",
       "                    if (nbb_cells[i].input_prompt_number == nbb_cell_id) {\n",
       "                        if (nbb_cells[i].get_text() == nbb_unformatted_code) {\n",
       "                             nbb_cells[i].set_text(nbb_formatted_code);\n",
       "                        }\n",
       "                        break;\n",
       "                    }\n",
       "                }\n",
       "            }, 500);\n",
       "            "
      ],
      "text/plain": [
       "<IPython.core.display.Javascript object>"
      ]
     },
     "metadata": {},
     "output_type": "display_data"
    }
   ],
   "source": [
    "# hide\n",
    "%load_ext nb_black\n",
    "%matplotlib inline\n",
    "%config InlineBackend.figure_format='retina'\n",
    "%config IPCompleter.greedy=True"
   ]
  },
  {
   "cell_type": "code",
   "execution_count": 33,
   "metadata": {},
   "outputs": [
    {
     "data": {
      "image/png": "[encoded data removed]",
      "text/plain": [
       "<Figure size 432x288 with 1 Axes>"
      ]
     },
     "metadata": {
      "image/png": {
       "height": 248,
       "width": 375
      },
      "needs_background": "light"
     },
     "output_type": "display_data"
    },
    {
     "data": {
      "application/javascript": [
       "\n",
       "            setTimeout(function() {\n",
       "                var nbb_cell_id = 33;\n",
       "                var nbb_unformatted_code = \"from newremagine.replay import Replay\\n\\n# Make data\\nnumbers = [1, 2, 3, 4, 5, 6, 7, 8, 9, 10]\\nmemorys = Replay(len(numbers))\\n\\n# Encode data\\nfor n in numbers:\\n    memory.encode(n)\\n\\n# Sample data\\nsamples = memory.sample(1000)\\n_ = plt.hist(samples, color=\\\"black\\\", alpha=0.8)\";\n",
       "                var nbb_formatted_code = \"from newremagine.replay import Replay\\n\\n# Make data\\nnumbers = [1, 2, 3, 4, 5, 6, 7, 8, 9, 10]\\nmemorys = Replay(len(numbers))\\n\\n# Encode data\\nfor n in numbers:\\n    memory.encode(n)\\n\\n# Sample data\\nsamples = memory.sample(1000)\\n_ = plt.hist(samples, color=\\\"black\\\", alpha=0.8)\";\n",
       "                var nbb_cells = Jupyter.notebook.get_cells();\n",
       "                for (var i = 0; i < nbb_cells.length; ++i) {\n",
       "                    if (nbb_cells[i].input_prompt_number == nbb_cell_id) {\n",
       "                        if (nbb_cells[i].get_text() == nbb_unformatted_code) {\n",
       "                             nbb_cells[i].set_text(nbb_formatted_code);\n",
       "                        }\n",
       "                        break;\n",
       "                    }\n",
       "                }\n",
       "            }, 500);\n",
       "            "
      ],
      "text/plain": [
       "<IPython.core.display.Javascript object>"
      ]
     },
     "metadata": {},
     "output_type": "display_data"
    }
   ],
   "source": [
    "import matplotlib.pyplot as plt\n",
    "from newremagine.replay import Replay\n",
    "\n",
    "# Make data\n",
    "numbers = [1, 2, 3, 4, 5, 6, 7, 8, 9, 10]\n",
    "memorys = Replay(len(numbers))\n",
    "\n",
    "# Encode data\n",
    "for n in numbers:\n",
    "    memory.encode(n)\n",
    "\n",
    "# Sample data\n",
    "samples = memory.sample(1000)\n",
    "_ = plt.hist(samples, color=\"black\", alpha=0.8)"
   ]
  },
  {
   "cell_type": "code",
   "execution_count": null,
   "metadata": {},
   "outputs": [],
   "source": []
  }
 ],
 "metadata": {
  "kernelspec": {
   "display_name": "Python 3",
   "language": "python",
   "name": "python3"
  },
  "language_info": {
   "codemirror_mode": {
    "name": "ipython",
    "version": 3
   },
   "file_extension": ".py",
   "mimetype": "text/x-python",
   "name": "python",
   "nbconvert_exporter": "python",
   "pygments_lexer": "ipython3",
   "version": "3.6.7"
  }
 },
 "nbformat": 4,
 "nbformat_minor": 2
}
